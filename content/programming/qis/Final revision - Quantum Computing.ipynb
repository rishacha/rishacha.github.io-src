{
 "cells": [
  {
   "cell_type": "markdown",
   "id": "1feb429b",
   "metadata": {},
   "source": [
    "- title: Quantum Computing Revision\n",
    "- author: Rishabh Chakrabarti   \n",
    "- date: 2022-05-11\n",
    "- category: Quantum Computing\n",
    "- tags: qc, qiskit\n",
    "- summary: My final revision sheet for Quantum Information Systems"
   ]
  },
  {
   "cell_type": "markdown",
   "id": "567e1968",
   "metadata": {},
   "source": [
    "## Quantum Computing"
   ]
  },
  {
   "cell_type": "code",
   "execution_count": 2,
   "id": "b444b6c0",
   "metadata": {},
   "outputs": [],
   "source": [
    "import numpy as np\n",
    "from qiskit.quantum_info import entropy, Statevector, DensityMatrix"
   ]
  },
  {
   "cell_type": "markdown",
   "id": "0e024e58",
   "metadata": {},
   "source": [
    "#### The Basic Rules of Quantum Mechanics\n",
    "\n",
    "\n",
    "#### Superposition - $\\alpha|0\\rangle + \\beta|1\\rangle$ -- Combination of 2 basis states\n",
    "\n",
    "#### Measurement \n",
    "$$|\\psi\\rangle = \\frac{\\sqrt{3}}{2} |0\\rangle + \\frac{1}{2}|1\\rangle$$\n",
    "##### Borne Rule - \n",
    "$$Pr(0) = \\left|\\langle0|\\alpha\\rangle\\right|={\\left|\\alpha\\right|}^2 = {\\left|\\frac{\\sqrt{3}}{2}\\right|}^2 = \\frac{3}{4}$$\n",
    "$$Pr(1) = \\left|\\langle1|\\beta\\rangle\\right|={\\left|\\beta\\right|}^2 = {\\left|\\frac{1}{2}\\right|}^2 = \\frac{1}{4}$$\n",
    "##### Different Basis for measurement - Introducing Hadamard Gate\n",
    "$$|+\\rangle = \\frac{(|0\\rangle + |1\\rangle)}{\\sqrt{2}}$$\n",
    "\n",
    "$$|-\\rangle = \\frac{(|0\\rangle - |1\\rangle)}{\\sqrt{2}}$$\n",
    "\n",
    "$$|0\\rangle = \\frac{(|+\\rangle + |-\\rangle)}{\\sqrt{2}}$$\n",
    "\n",
    "$$|1\\rangle = \\frac{(|+\\rangle - |-\\rangle)}{\\sqrt{2}}$$"
   ]
  },
  {
   "cell_type": "markdown",
   "id": "c0c0f5ec",
   "metadata": {},
   "source": [
    "##### Global vs Relative Phase\n",
    "\n",
    "![image.png](/media/global_phase1.png)\n",
    "\n",
    "![image.png](/media/global_phase3.png)\n",
    "\n",
    "#### So we can only distinguish between relative phase"
   ]
  },
  {
   "cell_type": "markdown",
   "id": "ce511b97",
   "metadata": {},
   "source": [
    "##### Quantum Gates(Unitary Matrices) and Circuits\n",
    "\n",
    "Hadamard\n",
    "\n",
    "##### Universal Gate Sets\n",
    "\n",
    "**Claude Shannon's Theory for Classical Boolean Functions**\n",
    "\n",
    "* Classical universality - NAND gate\n",
    "* Quantum universality gate set $\\mathcal{S}$\n",
    "\n",
    "![quantum_universality](/media/quantum_universality.jpg)\n",
    "\n",
    "* **Gottesman-Knill Theorem**\n",
    "* **Solovay-Kitaev Theorem**\n",
    "\n",
    "#### NO-CLONING Theorem\n",
    "\n",
    "![image.png](/media/no_cloning1.png)\n",
    "\n",
    "###### Multi-qubit states and Partial measurement\n",
    "\n",
    "Consider the state - $|\\psi\\rangle = \\alpha|00\\rangle + \\beta|01\\rangle + \\delta|10\\rangle + \\gamma|11\\rangle$\n",
    "\n",
    "If you measure Pr[Qubit 1 is 0] , using partial measurement --> We get a joint state "
   ]
  },
  {
   "cell_type": "markdown",
   "id": "34bd6ba2",
   "metadata": {},
   "source": [
    "##### The Church-Turing Thesis\n",
    "\n",
    "##### Classical Probability Theory"
   ]
  },
  {
   "cell_type": "markdown",
   "id": "fbe47e0a",
   "metadata": {},
   "source": [
    "#### The Zeno Effect\n",
    "\n",
    "##### The Elitzur-Vaidman Bomb"
   ]
  },
  {
   "cell_type": "markdown",
   "id": "d04d8ff6",
   "metadata": {},
   "source": [
    "### Pure State - superposition of basis states\n",
    "\n",
    "So far, we've just talked about one way of looking at a state. But in reality, states are more complex.\n",
    "\n",
    "### Mixed State - A classical *probability* distribution over *pure* quantum states\n",
    "This is the true representation of \"true\" qubit states. An alternate way of actually representing the whole picture probabilistically\n",
    "\n",
    "##### Mixed State of a qudit i.e. a d-dimensional quantum state\n",
    "\n",
    "{ $p_1$ probability of $|\\psi_1\\rangle$,\n",
    "\n",
    " $p_2$ probability of $|\\psi_2\\rangle$,\n",
    " \n",
    " .\n",
    " .\n",
    " .\n",
    " \n",
    "$p_m$ probability of $|\\psi_m\\rangle$ }\n",
    "\n",
    "$$\\sum_{i=1}^{m}p_i = 1$$ and $\\{|\\psi_1\\rangle,|\\psi_2\\rangle.....|\\psi_m\\rangle\\} \\in \\mathbb{C}^d$ are unit vectors in d-dimensional space\n",
    "\n",
    "Now, say we measure in an orthonormal basis from set $\\{u_1,u_2,u_3....u_d\\}$\n",
    "\n",
    "What is the probability of the measurement being $u_i$ ???\n",
    "\n",
    "$$\\sum_{j=1}^{m} p_j {|\\langle u_i|\\psi_j\\rangle|}^2$$, Where $p_j$ is the probability of the mixed state being $|\\psi_j\\rangle$\n",
    "\n",
    "Let's tweak the above expression a bit more -->\n",
    "\n",
    "Let's break the squared part in the expresssion to ${\\langle u_i | \\psi_j \\rangle}^\\dagger = \\langle \\psi_j | u_i \\rangle$. We can substitute this because ${|z|}^2 = z.z^*$\n",
    "\n",
    "Thus, the above expression becomes ---> \n",
    "\n",
    "$$\\sum_{j=1}^{m} p_j |\\langle u_i|\\psi_j \\times \\psi_j|ui\\rangle|$$\n",
    "\n",
    "We can also push the $\\sum_{j=1}^{m} p_j$ term inside with some \"math jugglery\"\n",
    "\n",
    "Pr\\[ measuring \"i\"\\] = $\\langle u_i|(\\sum_{j=1}^{m} p_j|\\psi_j \\times \\psi_j|)|u_i\\rangle$\n",
    "\n",
    "**All the outcome probabilities of any measurement only depend on $\\rho = \\sum_{j=1}^{m} p_j|\\psi_j \\times \\psi_j|$**\n",
    "\n",
    "Here, $\\rho$ is the density matrix and it's the new mathematical way of defining any particle\n",
    "\n",
    "##### Examples\n",
    "\n",
    "1. Particle has a 50% probability of being $|0\\rangle$ and 50% of being $|1\\rangle$\n",
    "\n",
    "Let's construct a density matrix $\\rho = \\frac{1}{2} \\begin{pmatrix} 1 \\\\0 \\end{pmatrix}\\begin{pmatrix} 1 & 0 \\end{pmatrix} + \\frac{1}{2} \\begin{pmatrix} 0 \\\\ 1 \\end{pmatrix}\\begin{pmatrix} 0 & 1 \\end{pmatrix}$\n",
    "\n",
    "Thus $\\rho = \\begin{pmatrix}\\frac{1}{2} & 0 \\\\ 0 & \\frac{1}{2}\\end{pmatrix}$\n",
    "\n",
    "2. Particle has a 50% probability of being $|+\\rangle$ and 50% of being $|-\\rangle$\n",
    "\n",
    "Let's construct a density matrix $\\rho = \\frac{1}{2} \\begin{pmatrix} \\frac{1}{\\sqrt{2}} \\\\\\frac{1}{\\sqrt{2}} \\end{pmatrix}\\begin{pmatrix} \\frac{1}{\\sqrt{2}} & \\frac{1}{\\sqrt{2}} \\end{pmatrix} + \\frac{1}{2} \\begin{pmatrix} \\frac{1}{\\sqrt{2}} \\\\ \\frac{-1}{\\sqrt{2}} \\end{pmatrix}\\begin{pmatrix} \\frac{1}{\\sqrt{2}} & \\frac{-1}{\\sqrt{2}} \\end{pmatrix}$\n",
    "\n",
    "Thus $\\rho = \\begin{pmatrix}\\frac{1}{2} & 0 \\\\ 0 & \\frac{1}{2}\\end{pmatrix}$\n",
    "\n",
    "**Thus, one cannot distinguish between the {0,1} or the {+,-} mixed states**\n",
    "\n",
    "![image.png](/media/mixed_state1.png)\n",
    "\n",
    "3. Particle has 100% probability of being $|0\\rangle$\n",
    "\n",
    "$\\rho = \\begin{pmatrix}1 \\\\ 0\\end{pmatrix}\\begin{pmatrix}1 & 0\\end{pmatrix}= \\begin{pmatrix}1&0 \\\\ 0&0\\end{pmatrix}$\n",
    "\n",
    "4. Particle has 100% probability of being $-|0\\rangle$\n",
    "\n",
    "$\\rho = \\begin{pmatrix}-1 \\\\ 0\\end{pmatrix}\\begin{pmatrix}-1 & 0\\end{pmatrix} = \\begin{pmatrix}1&0 \\\\ 0&0\\end{pmatrix}$\n",
    "\n",
    "5. Particle has 100% probability of being $i|0\\rangle$\n",
    "\n",
    "$\\rho = \\begin{pmatrix}i \\\\ 0\\end{pmatrix}\\begin{pmatrix}-i & 0\\end{pmatrix} = \\begin{pmatrix}1&0 \\\\ 0&0\\end{pmatrix}$\n",
    "\n",
    "3,4,5 Prove the following\n",
    "\n",
    "![image-2.png](/media/global_phase2.png)\n",
    "\n",
    "#### SUCH A c is called a \"GLOBAL PHASE\"\n",
    "\n",
    "6. EPR pair $\\frac{1}{\\sqrt{2}}|00\\rangle + \\frac{1}{\\sqrt{2}}|11\\rangle$\n",
    "\n",
    "$\\rho = \\begin{pmatrix}\\frac{1}{\\sqrt{2}} \\\\ 0 \\\\ 0 \\\\ \\frac{1}{\\sqrt{2}}\\end{pmatrix}\\begin{pmatrix}\\frac{1}{\\sqrt{2}} & 0 & 0 & \\frac{1}{\\sqrt{2}}\\end{pmatrix} = \\begin{pmatrix}\\frac{1}{\\sqrt{2}} & 0 & 0 & \\frac{1}{\\sqrt{2}} \\\\ 0 & 0 & 0 & 0 \\\\ 0 & 0 & 0 & 0 \\\\ \\frac{1}{\\sqrt{2}} & 0 & 0 & \\frac{1}{\\sqrt{2}}  \\end{pmatrix}$\n",
    "\n",
    "7. Test\n",
    "\n",
    "\n",
    "##### Properties of Density matrix\n",
    "\n",
    "1. Hermitian (complex number analogue of symmetric) --> $\\rho^\\dagger = \\rho$. $(\\sum_{j=1}^{m} p_j|\\psi_j \\times \\psi_j|)$\n",
    "2. They're \"positive\" (a.k.a. \"positive semi-definite\") meaning $\\forall |u\\rangle, \\langle u | \\rho|u\\rangle \\ge 0$\n",
    "3. $\\sum_{i=1}^{d}\\rho_{ii} =1$ --> Trace of $\\rho$ or $tr(\\rho)$ = 1. Sum of diagonal elements is $1$\n",
    "\n",
    "##### Working with density matrices $\\rho$\n",
    "\n",
    "* Apply a unitary matrix to the density matrix --> What is the \"$p_j$ probability of $U|\\psi\\rangle$\" and $j = (1,2,.....m)$\n",
    "\n",
    "NEW Density matrix $\\rho' = U\\rho U^\\dagger$\n",
    "\n",
    "* Measuring in standard basis \n",
    "\n",
    "{ $\\rho_{11}$ probability of $|\\psi_1\\rangle$,\n",
    "\n",
    " $\\rho_{22}$  probability of $|\\psi_2\\rangle$,\n",
    " \n",
    "$\\vdots$\n",
    " \n",
    "$\\rho_{dd}$  probability of $|\\psi_d\\rangle$ }\n",
    "\n",
    "*  Mixed states having same diagonal entries, will give the same measurement probabilities if measured in the standard basis, but different measurements in other basis. \n",
    "\n",
    "* ![image.png](/media/hermitian_mixed_state1.png)\n",
    "\n",
    "\n",
    "#### Bloch Sphere\n",
    "\n",
    "![bloch](/media/bloch.jpg)\n",
    "\n",
    "##### Bloch Sphere and Mixed states -->"
   ]
  },
  {
   "cell_type": "markdown",
   "id": "2453ed3c",
   "metadata": {},
   "source": [
    "### Entanglement \n",
    "#### For a mixture of pure states ---> You can't break your state into a tensor product if they're entangled\n",
    "\n",
    "##### Quantifying Entanglement and Mixed State Entanglement\n",
    "\n",
    "###### Schmidt Decomposition\n",
    "\n",
    "Given a bi-partite state $\\sum_{ij} \\alpha_{ij} {|i\\rangle}_A{|j\\rangle}_B$. *How do we calculate how many Bell pairs it's worth?* \n",
    "\n",
    "* Perform an SVD on the density matrix $\\rho$ and get the eigenvalues.\n",
    "\n",
    "###### Von-Neuman Entropy\n",
    "\n",
    "Von-Neumann Entropy for a pure state ($|\\psi\\rangle=\\alpha|0\\rangle + \\beta|1\\rangle$) is 0\n",
    "\n",
    "Von-Neumann Entropy for a mixed state, given $\\rho$ is -->\n",
    "\n",
    "$$S(\\rho) = \\sum_{i=0}^{n-1} \\gamma_i log_2(\\frac{1}{\\gamma_i})$$\n",
    "\n",
    "Where $\\{\\gamma_i\\}$ are the eigenvalues of $\\rho$.. We use Schmidt form here. \n",
    "\n",
    "###### Entanglement Entropy\n",
    "\n",
    "*How to quantify entanglement?* Say for example, if entropy is .942, then for 1000 copies, 942 qubits can be teleported\n",
    "\n",
    "###### Entanglement Entropy for a (pure) bi-partite state\n",
    "\n",
    "#### Mixed State entanglement\n",
    "\n",
    "\n",
    "##### The GHZ State and Monogamy of Entanglement\n",
    "\n",
    "* If Alice and Bob share a Maximally Entangled State, $q_A$ and $q_B$. Then $q_A$ cannot be maximally entangled with $q_C$ , a $3^{rd}$ party. This is the monogamy of entanglement. \n",
    "* If you extend this idea to the GHZ state, you can only see the entanglement if you have all 3 qubits together. Imagine it as Borromean rings. Removing any one ring, unentangles the other 2 rings. ![Borromean rings](/media/borromean.jpeg) "
   ]
  },
  {
   "cell_type": "code",
   "execution_count": 18,
   "id": "6568676c",
   "metadata": {},
   "outputs": [
    {
     "data": {
      "text/latex": [
       "$$\\frac{\\sqrt{6}}{3} |0\\rangle+\\frac{\\sqrt{3}}{3} |1\\rangle$$"
      ],
      "text/plain": [
       "<IPython.core.display.Latex object>"
      ]
     },
     "execution_count": 18,
     "metadata": {},
     "output_type": "execute_result"
    }
   ],
   "source": [
    "state_vector = Statevector([0,np.sqrt(1/3)])\n",
    "state_vector.draw(output='latex')"
   ]
  },
  {
   "cell_type": "code",
   "execution_count": 14,
   "id": "9c938217",
   "metadata": {},
   "outputs": [
    {
     "data": {
      "text/latex": [
       "$$\\frac{1}{2} |00\\rangle+\\frac{i}{2} |01\\rangle+\\frac{i}{2} |10\\rangle+\\frac{1}{2} |11\\rangle$$"
      ],
      "text/plain": [
       "<IPython.core.display.Latex object>"
      ]
     },
     "execution_count": 14,
     "metadata": {},
     "output_type": "execute_result"
    }
   ],
   "source": [
    "state_vector = Statevector([1/2,(1j/2),(1j/2),1/2])\n",
    "state_vector.draw(output='latex')"
   ]
  },
  {
   "cell_type": "code",
   "execution_count": 15,
   "id": "37465258",
   "metadata": {},
   "outputs": [
    {
     "data": {
      "text/plain": [
       "0"
      ]
     },
     "execution_count": 15,
     "metadata": {},
     "output_type": "execute_result"
    }
   ],
   "source": [
    "entropy(state_vector)"
   ]
  },
  {
   "cell_type": "code",
   "execution_count": 10,
   "id": "eec699b4",
   "metadata": {},
   "outputs": [
    {
     "data": {
      "text/plain": [
       "1.0"
      ]
     },
     "execution_count": 10,
     "metadata": {},
     "output_type": "execute_result"
    }
   ],
   "source": [
    "state_2 = Statevector([0,-np.sqrt(1/3),np.sqrt(2/3),0])\n",
    "entropy(DensityMatrix([[1/2, 0,0,0], [0,0,0,0],[0,0,0,0],[0,0,0,1/2]]))  # Density matrix object"
   ]
  },
  {
   "cell_type": "code",
   "execution_count": 11,
   "id": "442d409d",
   "metadata": {},
   "outputs": [
    {
     "data": {
      "text/plain": [
       "0"
      ]
     },
     "execution_count": 11,
     "metadata": {},
     "output_type": "execute_result"
    }
   ],
   "source": [
    "state_3 = Statevector([0,np.sqrt(2/3),-1*np.sqrt(1/3),0])\n",
    "entropy(state_3)"
   ]
  },
  {
   "cell_type": "code",
   "execution_count": 13,
   "id": "42625b06",
   "metadata": {},
   "outputs": [
    {
     "data": {
      "text/plain": [
       "1.0"
      ]
     },
     "execution_count": 13,
     "metadata": {},
     "output_type": "execute_result"
    }
   ],
   "source": [
    "state_3 = Statevector([0,np.sqrt(2/3),-1*np.sqrt(1/3),0])\n",
    "dm = DensityMatrix([[1/2, 0], [0,1/2]])\n",
    "entropy(dm)"
   ]
  },
  {
   "cell_type": "code",
   "execution_count": null,
   "id": "1f28d064",
   "metadata": {},
   "outputs": [],
   "source": [
    "state_3 = Statevector([1/2,1j/2,1j/2,1/2])"
   ]
  },
  {
   "cell_type": "code",
   "execution_count": 10,
   "id": "c0814e1a",
   "metadata": {},
   "outputs": [
    {
     "data": {
      "text/plain": [
       "0"
      ]
     },
     "execution_count": 10,
     "metadata": {},
     "output_type": "execute_result"
    }
   ],
   "source": [
    "state_3 = Statevector([1/np.sqrt(2),0,0,1/np.sqrt(2)])\n",
    "entropy(state_3)"
   ]
  },
  {
   "cell_type": "code",
   "execution_count": 7,
   "id": "60af45b8",
   "metadata": {},
   "outputs": [
    {
     "data": {
      "text/plain": [
       "0"
      ]
     },
     "execution_count": 7,
     "metadata": {},
     "output_type": "execute_result"
    }
   ],
   "source": [
    "entropy(state_2)"
   ]
  },
  {
   "cell_type": "code",
   "execution_count": 8,
   "id": "b4006904",
   "metadata": {},
   "outputs": [
    {
     "name": "stdout",
     "output_type": "stream",
     "text": [
      "0.9182958340544896\n",
      "0\n",
      "False\n"
     ]
    }
   ],
   "source": [
    "s1 = entropy(DensityMatrix([[1/3, 0], [0,2/3]]))  # Density matrix object\n",
    "s2 = entropy(state_vector)\n",
    "\n",
    "print(s1)\n",
    "print(s2)\n",
    "\n",
    "print(s1==s2)"
   ]
  },
  {
   "cell_type": "markdown",
   "id": "b3077d81",
   "metadata": {},
   "source": [
    "##### Create a maximally entangled state\n",
    "![image.png](/media/epr_generation_circuit.png)"
   ]
  },
  {
   "cell_type": "markdown",
   "id": "61ab290b",
   "metadata": {},
   "source": [
    "#### Entangled *pair* of qubits - Bell pair/EPR Pair --> $|\\frac{00\\rangle + |11\\rangle}{\\sqrt{2}}$\n",
    "Inter conversion between various states ---> $|\\frac{++\\rangle + |--\\rangle}{\\sqrt{2}}$\n",
    "\n",
    "These 2 states are not distinguishable as such"
   ]
  },
  {
   "cell_type": "markdown",
   "id": "41d8d914",
   "metadata": {},
   "source": [
    "\n",
    "###### Hidden Variables\n",
    "###### Nonlocal Games\n",
    "##### CHSH Game\n",
    "![chsh_game](/media/chsh.jpg)\n",
    "##### Bell's Inequality\n",
    "\n",
    "![image.png](/media/chsh1.png)\n",
    "\n",
    "##### Quantum Teleportation - Faster than light communication ? (Doesn't violate No-Cloning)\n",
    "\n",
    "* 1 SHARED EPR-Pair + 2bits $\\ge$ 1 Qubit --> Read as RHS is required to transport/teleport LHS --> 1 qubit.\n",
    "* Assume Alice and Bob have a way of doing \"distributed CNOT\". Thus, they start with \n",
    "\n",
    "$$|\\psi\\rangle = \\alpha|00\\rangle + \\beta |11\\rangle$$\n",
    "\n",
    "1. Alice does Hadamard on her qubit and measures -\n",
    "\n",
    "$$H|\\psi\\rangle = \\alpha|+0\\rangle + \\beta |-1\\rangle = \\frac{\\alpha}{\\sqrt{2}}|00\\rangle + \\frac{\\alpha}{\\sqrt{2}}|01\\rangle + \\frac{\\beta}{\\sqrt{2}}|10\\rangle - \\frac{\\beta}{\\sqrt{2}}|11\\rangle$$\n",
    "\n",
    "2. 2 possible outcomes emerge from the above state post measurement. \n",
    "\n",
    "* If Alice measures 0, Bob's state collapses to --> $|\\psi\\rangle = \\alpha|0\\rangle + \\beta |1\\rangle$\n",
    "* If Alice measures 1, Bob's state collapses to --> $|\\psi\\rangle = \\alpha|0\\rangle - \\beta |1\\rangle$\n",
    "\n",
    "3. CLASSICAL BIT 2 --> Alice now sends the measured output to Bob\n",
    "* If the measured bit is 0, Bob does nothing\n",
    "* If the measured bit is 1, Bob applies Z gate to $|\\psi\\rangle = \\alpha|0\\rangle - \\beta |1\\rangle$ and gets $Z|\\psi\\rangle = \\alpha|0\\rangle + \\beta |1\\rangle$ \n",
    "\n",
    "\n",
    "* HOW to get the \"distributed CNOT\"???\n",
    "\n",
    "![teleportation](/media/teleportation.jpg)\n",
    "\n",
    "##### Entanglement Swapping\n",
    "![swapping](/media/entanglement_swapping.png)\n",
    "\n",
    "##### Weisner's money scheme - BBBW '82 \n",
    "\n",
    "Works using the `No-Cloning Theorem`\n",
    "\n",
    "* Bank issues a multi-qubit state\n",
    "\n",
    "* Security parameter - 'n'\n",
    "* Bank picks a random $s \\in {\\{0,1\\}}^n$\n",
    "* Bank picks $q \\in {\\{0,1,+,-\\}}^n$\n",
    "* Bank creates - $|\\psi\\rangle = |0\\rangle\\otimes|+\\rangle\\otimes|1\\rangle\\otimes|-\\rangle....$\n",
    "* Bank maintains $(s,q)$\n",
    "* You get $(s,\\psi)$\n",
    "\n",
    "* Bank can verify if the state/coin is valid/forged by using $q$ and measuring in the right basis. If all the measurements pass, it's a valid coin.\n",
    "\n",
    "**Attacks on Weisner**\n",
    "\n",
    "1. Simple attack - Counterfeiter measures each qubit in the std. basis\n",
    "2. Interactive attack - Elitzur-Vaidmann Bomb\n",
    "\n",
    "##### QKD and BB84\n",
    "\n",
    "Shared key is required. \n",
    "\n",
    "**PROTOCOL**\n",
    "\n",
    "![bb84](/media/bb84.jpg)\n",
    "\n",
    "\n",
    "##### Super dense coding\n",
    "\n",
    "**Holevo's Theorem**: Alice can't send more than one bit per qubit to Bob.\n",
    "\n",
    "**PROTOCOL**\n",
    "\n",
    "![superdense](/media/superdense.jpg)\n",
    "\n",
    "**1-qubit + 1 shared ebit $\\ge$ 2 classical bits**"
   ]
  },
  {
   "cell_type": "markdown",
   "id": "6993dc55",
   "metadata": {},
   "source": [
    "#### Quantum Query Complexity\n",
    "\n",
    "There are 2 major ways to look at complexity of quantum algorithms -->\n",
    "\n",
    "##### Circuit Complexity\n",
    "##### Query Complexity aka Black-Box Model\n",
    "\n",
    "#### Quantum Garbage Collection"
   ]
  },
  {
   "cell_type": "markdown",
   "id": "6a29b984",
   "metadata": {},
   "source": [
    "## QUANTUM ALGORITHMS\n",
    "\n",
    "### [Deutsch-Jozsa Algorithm](https://qiskit.org/textbook/ch-algorithms/deutsch-jozsa.html)\n",
    "##### Oracle function --> $f({\\{0,1\\}}^n) \\rightarrow {0,1}$.\n",
    "\n",
    "Check if the function is \n",
    "\n",
    "* Constant\n",
    "\n",
    "<br>\n",
    "<br>\n",
    "<br>\n",
    "<br>\n",
    "<br>\n",
    "\n",
    "\n",
    "* Balanced\n",
    "\n",
    "<br>\n",
    "<br>\n",
    "<br>\n",
    "<br>\n",
    "<br>\n",
    "\n",
    "\n",
    "\n",
    "##### Classically ---> $2^{n-1} +1$ queries\n",
    "##### Quantum ---> Only 1 query/pass through the circuit\n",
    "\n",
    "### [Bernstein-Vazirani Algorithm](https://qiskit.org/textbook/ch-algorithms/bernstein-vazirani.html)\n",
    "##### Oracle function --> $f(x) = s.x(mod 2)$. i.e. a bit-wise produce of input with a 'secret' string $s$. Find $s$\n",
    "##### Classically --> n queries to the Oracle\n",
    "##### Quantum --> 1 query/pass through the circuit\n",
    "\n",
    "### [Simon’s Algorithm](https://qiskit.org/textbook/ch-algorithms/simon.html)\n",
    "##### Oracle Function --> $f(x)$ has following properties \n",
    "\n",
    "Function can be \n",
    "\n",
    "* one-to-one\n",
    "<br>\n",
    "<br>\n",
    "<br>\n",
    "<br>\n",
    "<br>\n",
    "* two-to-one\n",
    "<br>\n",
    "<br>\n",
    "<br>\n",
    "<br>\n",
    "<br>\n",
    "\n",
    "##### Classical Solution --> $2^{n-1} + 1$ queries to the oracle\n",
    "##### Quantum Solution --> Repeat $n$ times to solve $b$\n",
    "\n",
    "### [Grover's Algorithm](https://qiskit.org/textbook/ch-algorithms/grover.html)\n",
    "\n",
    "#### Problem --> UNORDERED SEARCH. Oracle $f:\\{0,1,....N-1\\} \\rightarrow \\{0,1\\}$\n",
    "\n",
    "Find if there's an x in the input space for which $f(x) = 1$\n",
    "\n",
    "#### Classical Solution \n",
    "\n",
    "To find the purple box -- the marked item -- using classical computation, one would have to check on average  $\\frac{N}{2}$ of these boxes, and in the worst case, all $N$ of them.\n",
    "\n",
    "#### Quantum Solution - $\\sqrt{N}$\n",
    "\n",
    "#### Applications of Grover's Algorithm\n",
    "---\n",
    "\n",
    "### Pre-requisites to Shor\n",
    "1. **Fermat's Little Theorem**\n",
    "2. **Euler's Theorem**\n",
    "3. **Euler's Totient Function** \n",
    "4. **Continued Fractions Algorithm**\n",
    "\n",
    "### QFT - Quantum Fourier Transform\n",
    "\n",
    "![qft](/media/qft1.png)\n",
    "\n",
    "**CIRCUIT**\n",
    "![qft_circuit](/media/qft_circuit.png)\n",
    "\n",
    "**Example - 3bit QFT**\n",
    "\n",
    "![qft3](/media/qft3.png)\n",
    "\n",
    "### QPE - Quantum Phase Estimation\n",
    "\n",
    "![qpe_maths](/media/qpe_maths.png)\n",
    "\n",
    "## Cryptography application\n",
    "\n",
    "### [RSA Algorithm](https://en.wikipedia.org/wiki/RSA_(cryptosystem))\n",
    "### Diffie-Hellman\n",
    "\n",
    "### [Shor’s Algorithm](https://qiskit.org/textbook/ch-algorithms/shor.html)\n",
    "\n",
    "### Problem\n",
    "![shor1](/media/shor1.png)\n",
    "\n",
    "##### Classical Solution\n",
    "\n",
    "Quantum Sieve\n",
    "\n",
    "###### Quantum Solution \n",
    "![image-10.png](/media/shor2.png)\n",
    "\n",
    "![image-10.png](/media/shor3.png)\n",
    "\n",
    "![image-12.png](/media/shor4.png)\n",
    "![image-13.png](/media/shor5.png)\n",
    "#### Applications of Shor's Algorithm"
   ]
  },
  {
   "cell_type": "code",
   "execution_count": 1,
   "id": "e6dfe5d1",
   "metadata": {},
   "outputs": [],
   "source": [
    "### Shor Qiskit"
   ]
  },
  {
   "cell_type": "markdown",
   "id": "4011a8ad",
   "metadata": {},
   "source": [
    "### Classical error correction\n",
    "### Quantum errors\n",
    "#### Bit Flip\n",
    "#### Phase Flip\n",
    "#### Both together\n",
    "\n",
    "### Error Correcting Codes\n",
    "##### Shor's 9-bit error correcting code"
   ]
  },
  {
   "cell_type": "markdown",
   "id": "431001ee",
   "metadata": {},
   "source": [
    "#### Interpretations of QM (Copenhagen, Dynamical Collapse, MWI, …)\n",
    "\n",
    "##### Copenhagen Interpretation\n",
    "There exist 2 worlds, 1 quantum and 1 classical\n",
    "##### Shut up and Calculate\n",
    "##### Schrodinger's Cat\n",
    "##### Wigner's Friend\n",
    "##### Dynamical Collapse\n",
    "##### GRW Theory\n",
    "##### Penrose Theory\n",
    "##### Many-Worlds Interpretation\n",
    "###### Preferred Basis Problem\n",
    "Decoherence Basis"
   ]
  },
  {
   "cell_type": "markdown",
   "id": "34e30a4a",
   "metadata": {},
   "source": [
    "##### Experimental Realizations of Quantum Computing\n",
    "\n"
   ]
  }
 ],
 "metadata": {
  "kernelspec": {
   "display_name": "Python 3 (ipykernel)",
   "language": "python",
   "name": "python3"
  },
  "language_info": {
   "codemirror_mode": {
    "name": "ipython",
    "version": 3
   },
   "file_extension": ".py",
   "mimetype": "text/x-python",
   "name": "python",
   "nbconvert_exporter": "python",
   "pygments_lexer": "ipython3",
   "version": "3.8.10"
  }
 },
 "nbformat": 4,
 "nbformat_minor": 5
}
