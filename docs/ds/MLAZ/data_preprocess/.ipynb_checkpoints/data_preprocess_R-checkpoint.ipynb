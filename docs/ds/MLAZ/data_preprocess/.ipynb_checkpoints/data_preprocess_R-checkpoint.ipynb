{
 "cells": [
  {
   "cell_type": "markdown",
   "metadata": {},
   "source": [
    "# Data preprocessing using R\n",
    "\n",
    "Lets try the whole thing using R. \n",
    "\n"
   ]
  },
  {
   "cell_type": "code",
   "execution_count": 1,
   "metadata": {},
   "outputs": [],
   "source": [
    "# Importing the dataset\n",
    "dataset=read.csv('datastore/Data.csv')\n",
    "\n",
    "# Taking care of missing data\n",
    "dataset$Age = ifelse(\n",
    "    is.na(dataset$Age),\n",
    "    ave(dataset$Age,FUN=function(x) mean(x,na.rm=TRUE)),\n",
    "        dataset$Age)\n",
    "\n",
    "                                            \n",
    "# Taking care of missing data\n",
    "dataset$Salary = ifelse(\n",
    "    is.na(dataset$Age),\n",
    "    ave(dataset$Age,FUN=function(x) mean(x,na.rm=TRUE)),\n",
    "        dataset$Age)\n",
    "                                               \n",
    "dataset"
   ]
  },
  {
   "cell_type": "code",
   "execution_count": null,
   "metadata": {},
   "outputs": [],
   "source": []
  }
 ],
 "metadata": {
  "kernelspec": {
   "display_name": "R",
   "language": "R",
   "name": "ir"
  },
  "language_info": {
   "codemirror_mode": "r",
   "file_extension": ".r",
   "mimetype": "text/x-r-source",
   "name": "R",
   "pygments_lexer": "r",
   "version": "3.5.0"
  }
 },
 "nbformat": 4,
 "nbformat_minor": 2
}
